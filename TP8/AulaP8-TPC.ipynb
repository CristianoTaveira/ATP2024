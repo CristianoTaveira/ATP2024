{
 "cells": [
  {
   "cell_type": "markdown",
   "id": "4193a91b",
   "metadata": {},
   "source": [
    "## TPC8: Teste de aferição\n",
    "\n",
    "Resolva os problemas apresentados a seguir."
   ]
  },
  {
   "cell_type": "markdown",
   "id": "ecb162bd",
   "metadata": {},
   "source": [
    "### tpc-1. Especifique as seguintes listas em compreensão:"
   ]
  },
  {
   "cell_type": "markdown",
   "id": "4e758271",
   "metadata": {},
   "source": [
    "#### a) Lista formada pelos elementos que não são comuns às duas listas:"
   ]
  },
  {
   "cell_type": "code",
   "execution_count": null,
   "id": "1fe48423",
   "metadata": {},
   "outputs": [
    {
     "name": "stdout",
     "output_type": "stream",
     "text": [
      "[1, 2, 3, 6, 7, 8]\n"
     ]
    }
   ],
   "source": [
    "lista1 = [1, 2, 3, 4, 5]\n",
    "lista2 = [4, 5, 6, 7, 8]\n",
    "ncomuns = [elem for elem in lista1 + lista2 if (elem not in lista1) or (elem not in lista2)]\n",
    "print(ncomuns)  \n",
    "\n",
    "# Resultado esperado: [1,2,3,7,8]"
   ]
  },
  {
   "cell_type": "markdown",
   "id": "0ded2f03",
   "metadata": {},
   "source": [
    "#### b) Lista formada pelas palavras do texto compostas por mais de 3 letras:"
   ]
  },
  {
   "cell_type": "code",
   "execution_count": 38,
   "id": "4ae7f5d0",
   "metadata": {},
   "outputs": [
    {
     "name": "stdout",
     "output_type": "stream",
     "text": [
      "['Vivia', 'poucos', 'anos', 'algures', 'concelho', 'Ribatejo', 'pequeno', 'lavrador', 'negociante', 'gado', 'chamado', 'Manuel', 'Peres', 'Vigário']\n"
     ]
    }
   ],
   "source": [
    "texto = \"\"\"Vivia há já não poucos anos algures num concelho do Ribatejo \n",
    "    um pequeno lavrador e negociante de gado chamado Manuel Peres Vigário\"\"\"\n",
    "lista = [pal for pal in texto.split(\" \") if len(pal) > 3]\n",
    "print(lista)\n",
    "# Resultado esperado: ['Vivia', 'poucos', 'anos', 'algures', 'concelho', ...]"
   ]
  },
  {
   "cell_type": "markdown",
   "id": "ecf72afd",
   "metadata": {},
   "source": [
    "#### c) Lista formada por pares do tipo (índice, valor) com os valores da lista dada:"
   ]
  },
  {
   "cell_type": "code",
   "execution_count": 51,
   "id": "876b2cc3",
   "metadata": {},
   "outputs": [
    {
     "name": "stdout",
     "output_type": "stream",
     "text": [
      "[(1, 'anaconda'), (2, 'burro'), (3, 'cavalo'), (4, 'macaco')]\n"
     ]
    }
   ],
   "source": [
    "# Lista original\n",
    "lista = ['anaconda', 'burro', 'cavalo', 'macaco']\n",
    "listaRes = [(i+1, pal) for i,pal in enumerate(lista)]\n",
    "print(listaRes)\n",
    "\n",
    "\n",
    "# Resultado esperado: [(1,'anaconda'), (2,'burro'), (3,'cavalo'), (4,'macaco')]"
   ]
  },
  {
   "cell_type": "markdown",
   "id": "28cb3dc4",
   "metadata": {},
   "source": [
    "### tpc-2. À semelhança do que foi feito nas aulas, realize as seguintes tarefas:"
   ]
  },
  {
   "cell_type": "markdown",
   "id": "5d3f1dbe",
   "metadata": {},
   "source": [
    "#### a) Especifique uma função que dada uma string e uma substring não vazia, calcula  o número de vezes em que a substring aparece na string, sem que haja sobreposição de substrings:"
   ]
  },
  {
   "cell_type": "code",
   "execution_count": 80,
   "id": "4458c7bc",
   "metadata": {},
   "outputs": [
    {
     "data": {
      "text/plain": [
       "2"
      ]
     },
     "execution_count": 80,
     "metadata": {},
     "output_type": "execute_result"
    }
   ],
   "source": [
    "def strCount(s, subs):\n",
    "    cont = 0\n",
    "    i = 0\n",
    "    while i <= len(s) - len(subs):\n",
    "        if s[i:i + len(subs)] == subs:\n",
    "            cont = cont + 1\n",
    "            i = i + len(subs)\n",
    "        else:\n",
    "            i = i + 1\n",
    "    return cont\n",
    "\n",
    "strCount(\"catcowcat\", \"cat\") # --> 2\n",
    "#strCount(\"catcowcat\", \"cow\") # --> 1\n",
    "#strCount(\"catcowcat\", \"dog\") # --> 0"
   ]
  },
  {
   "cell_type": "markdown",
   "id": "e6db31d7",
   "metadata": {},
   "source": [
    "#### b) Especifique uma função que recebe uma lista de números inteiros positivos e devolve o menor produto que for possível calcular multiplicando os 3 menores inteiros da lista:"
   ]
  },
  {
   "cell_type": "code",
   "execution_count": 90,
   "id": "2b5ad344",
   "metadata": {},
   "outputs": [
    {
     "name": "stdout",
     "output_type": "stream",
     "text": [
      "168\n"
     ]
    }
   ],
   "source": [
    "\n",
    "def produtoM3(lista):\n",
    "    nova_lista = sorted(lista)\n",
    "    produto = nova_lista[0] * nova_lista[1] * nova_lista[2]\n",
    "    return produto\n",
    "\n",
    "print(produtoM3([12,3,7,10,12,8,9]))\n",
    "# Resultado esperado: 168 = 3 * 7 * 8"
   ]
  },
  {
   "cell_type": "markdown",
   "id": "6698b337",
   "metadata": {},
   "source": [
    "#### c) Especifique uma função que dado um número inteiro positivo, repetidamente adiciona os seus dígitos até obter apenas um dígito que é retornado como resultado:"
   ]
  },
  {
   "cell_type": "code",
   "execution_count": 79,
   "id": "54cef309",
   "metadata": {},
   "outputs": [
    {
     "name": "stdout",
     "output_type": "stream",
     "text": [
      "2\n",
      "3\n"
     ]
    }
   ],
   "source": [
    "# Input: 38\n",
    "# Output: 2\n",
    "# Explicação: 3 + 8 = 11, 1 + 1 = 2.\n",
    "\n",
    "# Input: 777\n",
    "# Output: 3\n",
    "# Explicação: 7 + 7 + 7 = 21, 2 + 1 = 3.\n",
    "\n",
    "def reduxInt(n):\n",
    "    while n >= 10:  \n",
    "        res = 0\n",
    "        for i in str(n):  \n",
    "            res = res + int(i)  \n",
    "        n = res  \n",
    "    return n\n",
    "\n",
    "print(reduxInt(38))  \n",
    "print(reduxInt(777)) \n",
    "\n"
   ]
  },
  {
   "cell_type": "markdown",
   "id": "4a47b6e8",
   "metadata": {},
   "source": [
    "#### d) Especifique uma função que recebe duas strings, `string1` e `string2`, e devolve o índice da primeira ocorrência de `string2` em `string1`, caso não ocorra nenhuma vez a função deverá retornar `-1`:"
   ]
  },
  {
   "cell_type": "code",
   "execution_count": 20,
   "id": "f0f4c2a8",
   "metadata": {},
   "outputs": [
    {
     "name": "stdout",
     "output_type": "stream",
     "text": [
      "13\n",
      "-1\n"
     ]
    }
   ],
   "source": [
    "# Invocação: indexOf(\"Hoje está um belo dia de sol!\", \"belo\")\n",
    "# Resultado: 13\n",
    "\n",
    "# Invocação: indexOf(\"Hoje está um belo dia de sol!\", \"chuva\")\n",
    "# Resultado: -1\n",
    "\n",
    "def myIndexOf(s1, s2):\n",
    "    i = 0\n",
    "    ind = 0\n",
    "    cond = True\n",
    "    while i <= len(s1) - len(s2) and cond:\n",
    "        if s1[i:i + len(s2)] == s2:\n",
    "            ind = i\n",
    "            cond = False\n",
    "        i = i + 1\n",
    "    if cond == False:\n",
    "        return ind \n",
    "    else:\n",
    "        return -1\n",
    "\n",
    "print(myIndexOf(\"Hoje está um belo dia de sol!\", \"belo\"))\n",
    "print(myIndexOf(\"Hoje está um belo dia de sol!\", \"chuva\"))"
   ]
  },
  {
   "cell_type": "markdown",
   "id": "7cd572fc",
   "metadata": {},
   "source": [
    "### tpc-3. A Rede Social\n",
    "\n",
    "Considere que a informação sobre uma rede social está armazenada numa lista de dicionários.\n",
    "\n",
    "Cada dicionário, correspondente a um _post_ e tem chaves `id`, `conteudo`, `autor`, `dataCriacao` e `comentarios`.\n",
    "Por sua vez, `comentarios` é uma lista de dicionários com chaves `comentario` e `autor`.\n",
    "\n",
    "Considere o seguinte exemplo:\n",
    "\n",
    "``` \n",
    "    MyFaceBook = [{\n",
    "        'id': 'p1', \n",
    "        'conteudo': 'A tarefa de avaliação é talvez a mais ingrata das tarefas que um professor\n",
    "    tem de realizar...', \n",
    "        'autor': 'jcr', \n",
    "        'dataCriacao': '2023-07-20', \n",
    "        'comentarios': [\n",
    "            {\n",
    "                'comentario': 'Completamente de acordo...',\n",
    "                'autor': 'prh'\n",
    "            },\n",
    "            {\n",
    "                'comentario': 'Mas há quem goste...',\n",
    "                'autor': 'jj'\n",
    "            }\n",
    "        ]},\n",
    "        {\n",
    "            'id': 'p2',\n",
    "            ...\n",
    "        },\n",
    "        ...\n",
    "        ]\n",
    "```"
   ]
  },
  {
   "cell_type": "markdown",
   "id": "89afc758",
   "metadata": {},
   "source": [
    "Defina as seguintes funções de manipulação e consulta da rede social:"
   ]
  },
  {
   "cell_type": "code",
   "execution_count": 70,
   "id": "2890ccb8",
   "metadata": {},
   "outputs": [],
   "source": [
    "MyFaceBook = [{\n",
    "        'id': 'p1', \n",
    "        'conteudo': 'A tarefa de avaliação é talvez a mais ingrata das tarefas que um professor tem de realizar...', \n",
    "        'autor': 'jcr', \n",
    "        'dataCriacao': '2023-07-20', \n",
    "        'comentarios': [\n",
    "            {\n",
    "                'comentario': 'Completamente de acordo...',\n",
    "                'autor': 'prh'\n",
    "            },\n",
    "            {\n",
    "                'comentario': 'Mas há quem goste...',\n",
    "                'autor': 'jj'\n",
    "            }\n",
    "        ]},\n",
    "        {'id': 'p2', \n",
    "        'conteudo': 'Vou criar um curso online de como programar em python', \n",
    "        'autor': 'Cristiano', \n",
    "        'dataCriacao': '2024-07-20', \n",
    "        'comentarios': [\n",
    "            {\n",
    "                'comentario': 'Finalmente vou aprender',\n",
    "                'autor': 'Paulo'\n",
    "            },\n",
    "            {\n",
    "                'comentario': 'Qual o preço do curso?',\n",
    "                'autor': 'Fernando'\n",
    "            }]\n",
    "        }]"
   ]
  },
  {
   "cell_type": "markdown",
   "id": "1aec6cd8",
   "metadata": {},
   "source": [
    "#### a) `quantosPost`, que indica quantos posts estão registados:"
   ]
  },
  {
   "cell_type": "code",
   "execution_count": null,
   "id": "39a813ee",
   "metadata": {},
   "outputs": [],
   "source": [
    "def quantosPost(redeSocial):\n",
    "    res = 0\n",
    "    for post in redeSocial:\n",
    "        res = res + 1 \n",
    "    return res\n",
    "\n",
    "quantosPost(MyFaceBook)"
   ]
  },
  {
   "cell_type": "markdown",
   "id": "2156a0c8",
   "metadata": {},
   "source": [
    "#### b)  `postsAutor`, que devolve a lista de posts de um determinado autor:"
   ]
  },
  {
   "cell_type": "code",
   "execution_count": null,
   "id": "8a5a2a41",
   "metadata": {},
   "outputs": [],
   "source": [
    "def postsAutor(redeSocial, autor):\n",
    "    res = []\n",
    "    for post in redeSocial:\n",
    "        if post['autor'] == autor:\n",
    "            res.append(post)\n",
    "    return res\n",
    "\n",
    "postsAutor(MyFaceBook, \"Cristiano\")"
   ]
  },
  {
   "cell_type": "markdown",
   "id": "12f9126b",
   "metadata": {},
   "source": [
    "#### c) `autores`, que devolve a lista de autores de posts ordenada alfabeticamente:"
   ]
  },
  {
   "cell_type": "code",
   "execution_count": null,
   "id": "d9dfe30a",
   "metadata": {},
   "outputs": [],
   "source": [
    "def autores(redeSocial):\n",
    "    res = []\n",
    "    autor = \"\"\n",
    "    for post in redeSocial:\n",
    "        autor = post['autor']\n",
    "        res.append(autor)\n",
    "        res = sorted(res)\n",
    "    return res\n",
    "\n",
    "autores(MyFaceBook)"
   ]
  },
  {
   "cell_type": "markdown",
   "id": "1a0f760b",
   "metadata": {},
   "source": [
    "#### d) `insPost`, que acrescenta um novo post à rede social a partir dos parâmetros recebidos e devolve a nova rede social. \n",
    "    \n",
    "O campo `id` devrá ser calculado a partir dos já existentes, por exemplo, se a rede tiver posts com id `p1`, `p2` e `p3`, o novo `id` deverá ser `p4`."
   ]
  },
  {
   "cell_type": "code",
   "execution_count": null,
   "id": "a00c85e3",
   "metadata": {},
   "outputs": [],
   "source": [
    "def insPost(redeSocial, conteudo, autor, dataCriacao, comentarios):\n",
    "    post = {}\n",
    "    numPost = str(quantosPost(MyFaceBook) + 1) \n",
    "    post['id'] = 'p' + numPost\n",
    "    post['conteudo'] = conteudo\n",
    "    post['autor'] = autor\n",
    "    post['dataCriacao'] = dataCriacao\n",
    "    post['comentarios'] = comentarios\n",
    "    redeSocial.append(post)\n",
    "    return redeSocial\n",
    "\n",
    "insPost(MyFaceBook,'Novo Post', 'Cristiano','2024-07-21', [{'comentario': 'Estou surpreendido', 'autor': 'Joao'},\n",
    "   {'comentario': 'Não acredito', 'autor': 'Pedro'}])"
   ]
  },
  {
   "cell_type": "markdown",
   "id": "65061d0a",
   "metadata": {},
   "source": [
    "#### e)  `remPost`, que remove um post da rede, correspondente ao `id` recebido."
   ]
  },
  {
   "cell_type": "code",
   "execution_count": null,
   "id": "dc1adabc",
   "metadata": {},
   "outputs": [],
   "source": [
    "def remPost(redeSocial, id):\n",
    "    return [post for post in redeSocial if post[\"id\"] != id]\n",
    "\n",
    "MyFaceBook = remPost(MyFaceBook, \"p3\")\n",
    "for post in MyFaceBook:\n",
    "    print(post)"
   ]
  },
  {
   "cell_type": "markdown",
   "id": "de46a635",
   "metadata": {},
   "source": [
    "#### f) `postsPorAutor`, que devolve uma distribuição de posts por autor (à semelhança do que foi feito nas aulas)."
   ]
  },
  {
   "cell_type": "code",
   "execution_count": null,
   "id": "4118730d",
   "metadata": {},
   "outputs": [],
   "source": [
    "def postsPorAutor(redeSocial):\n",
    "    distrib = {}\n",
    "    for post in redeSocial:\n",
    "        if post[\"autor\"] not in distrib:\n",
    "            distrib[post[\"autor\"]] = 1\n",
    "        else:\n",
    "            distrib[post[\"autor\"]] = distrib[post[\"autor\"]] + 1\n",
    "    return distrib\n",
    "\n",
    "postsPorAutor(MyFaceBook)"
   ]
  },
  {
   "cell_type": "markdown",
   "id": "5b1d7d7a",
   "metadata": {},
   "source": [
    "#### g) `comentadoPor`, que recebe um autor e devolve a lista de posts comentados por esse autor."
   ]
  },
  {
   "cell_type": "code",
   "execution_count": null,
   "id": "a91f2619",
   "metadata": {},
   "outputs": [],
   "source": [
    "def comentadoPor(redeSocial, autor):\n",
    "    res = []\n",
    "    for post in redeSocial:\n",
    "        for c in post[\"comentarios\"]:\n",
    "            if c[\"autor\"] == autor:\n",
    "                res.append(post)\n",
    "    return res \n",
    "\n",
    "comentadoPor(MyFaceBook, \"Paulo\")"
   ]
  }
 ],
 "metadata": {
  "kernelspec": {
   "display_name": "Python 3",
   "language": "python",
   "name": "python3"
  },
  "language_info": {
   "codemirror_mode": {
    "name": "ipython",
    "version": 3
   },
   "file_extension": ".py",
   "mimetype": "text/x-python",
   "name": "python",
   "nbconvert_exporter": "python",
   "pygments_lexer": "ipython3",
   "version": "3.12.6"
  }
 },
 "nbformat": 4,
 "nbformat_minor": 5
}
