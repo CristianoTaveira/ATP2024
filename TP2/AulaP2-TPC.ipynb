{
 "cells": [
  {
   "cell_type": "code",
   "execution_count": null,
   "metadata": {},
   "outputs": [],
   "source": [
    "import random\n",
    "def menu():\n",
    "    print(\"Modalidade 1: Computador pensa num número entre 0 e 100\")\n",
    "    print(\"Modalidade 2: Utilizador pensa num número entre 0 e 100\")\n",
    "menu()\n",
    "cond = True\n",
    "while cond:\n",
    "        modalidade = int(input(\"Escolha a modalidade que quer jogar (1/2): \"))\n",
    "        if modalidade == 1 or modalidade == 2:\n",
    "            cond = False\n",
    "        else:\n",
    "            print(\"Opção inválida. Escolha 1 ou 2.\")\n",
    "\n",
    "if modalidade == 1:\n",
    "    num = random.randint(0,100)\n",
    "    i = 0\n",
    "    cond1 = True\n",
    "    while cond1:\n",
    "        res = int(input(\"Qual o número que pensei?\"))\n",
    "        i = i + 1\n",
    "        if res < num:\n",
    "            print(\"O número que pensei é maior\")\n",
    "        elif res > num:\n",
    "            print(\"O número que pensei é menor\")\n",
    "        else:\n",
    "            cond1 = False\n",
    "            if i == 1:\n",
    "                print(f\"Acertou! O número é {res}. Precisou de {i} tentativa.\")\n",
    "            else:\n",
    "                print(f\"Acertou! O número é {res}. Precisou de {i} tentativas.\")\n",
    "\n",
    "elif modalidade == 2:\n",
    "    menor = 0\n",
    "    maior = 100\n",
    "    tentativas = 0\n",
    "    cond2 = True\n",
    "    while cond2:\n",
    "        palpite = (menor + maior) // 2  \n",
    "        tentativas = tentativas + 1\n",
    "        res2 = input(f\"O número é {palpite}? (responda com 'maior', 'menor' ou 'acertou'): \")\n",
    "        if res2 == 'maior':\n",
    "            menor = palpite + 1\n",
    "        elif res2 == 'menor':\n",
    "            maior = palpite - 1\n",
    "        elif res2 == 'acertou':\n",
    "            cond2 = False\n",
    "            if tentativas == 1:\n",
    "                print(f\"Acertei! O número é {palpite}. Precisei de {tentativas} tentativa.\")\n",
    "            else:\n",
    "                print(f\"Acertei! O número é {palpite}. Precisei de {tentativas} tentativas.\")\n",
    "        else:\n",
    "            print(\"Resposta inválida, por favor responda com 'maior', 'menor' ou 'acertou'.\")\n"
   ]
  }
 ],
 "metadata": {
  "kernelspec": {
   "display_name": "Python 3",
   "language": "python",
   "name": "python3"
  },
  "language_info": {
   "codemirror_mode": {
    "name": "ipython",
    "version": 3
   },
   "file_extension": ".py",
   "mimetype": "text/x-python",
   "name": "python",
   "nbconvert_exporter": "python",
   "pygments_lexer": "ipython3",
   "version": "3.12.6"
  }
 },
 "nbformat": 4,
 "nbformat_minor": 2
}
